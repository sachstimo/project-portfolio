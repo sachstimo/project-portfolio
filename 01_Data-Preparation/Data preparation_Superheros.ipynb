{
 "cells": [
  {
   "cell_type": "markdown",
   "metadata": {
    "deletable": false,
    "editable": false,
    "id": "1_t4V9bnt-hB",
    "nbgrader": {
     "cell_type": "markdown",
     "checksum": "170d0196a91de492e5c65c198255c57f",
     "grade": false,
     "grade_id": "cell-e911fa75d4ae6ea9",
     "locked": true,
     "schema_version": 3,
     "solution": false,
     "task": false
    }
   },
   "source": [
    "\n",
    "# Data Preparation\n",
    "\n",
    "<u>Context</u>\n",
    "\n",
    "Superheroes have been in popular culture for a long time, and now more than ever. Since its creation, superheroes have not been diverse, but this is changing rapidly. The two datasets aim to provide an overview of heroes and their physical and power characteristics, helping curious people to identify trends and patterns. In this case, we want to understand how physical attributes and powers define superheroes' alignment (superhero, supervillain).\n",
    "\n",
    "    \n",
    "<u>Inspiration</u>\n",
    "\n",
    "What are the characteristics of your favorite superheroes? Are these characteristics affecting superheroes' alignment? Let's put some light on this important business question."
   ]
  },
  {
   "cell_type": "markdown",
   "metadata": {
    "deletable": false,
    "editable": false,
    "id": "evERSqB9MPid",
    "nbgrader": {
     "cell_type": "markdown",
     "checksum": "c45f7c7c979edff46eeaebe942b67c85",
     "grade": false,
     "grade_id": "cell-c7c37a1aa2fjk33bhj36",
     "locked": true,
     "schema_version": 3,
     "solution": false,
     "task": false
    }
   },
   "source": [
    "## Process steps\n",
    "\n",
    "1. **Feature Selection and Engineering:**  \n",
    "   Create a feature matrix `X` and a target array `y` (using the `Alignment` variable). Drop any irrelevant columns and explain your reasoning for each column you choose to exclude. If you find it relevant, consider combining existing columns or creating new ones based on the dataset's features.\n",
    "\n",
    "2. **Encoding Categorical and Ordinal Features:**  \n",
    "   Identify the categorical and ordinal columns, and encode them using a `ColumnTransformer` to apply the transformations in parallel.\n",
    "\n",
    "3. **Handling Missing Data:**  \n",
    "   If there are missing values in your feature matrix, decide on an appropriate method to handle them (e.g., imputation).\n",
    "\n",
    "4. **Standardizing Features:**  \n",
    "   Assess whether standardization is necessary for your numerical features, and apply it if needed.\n",
    "\n",
    "5. **Building a Pipeline:**  \n",
    "   Create a `Pipeline` that integrates all the preprocessing steps you have applied.\n",
    "\n",
    "6. **Documentation:**\n",
    "   Remember that thoroughly documenting your code and clearly explaining why certain decisions were made—while also considering and justifying why other options were not chosen—will be highly evaluated."
   ]
  },
  {
   "cell_type": "code",
   "execution_count": 27,
   "metadata": {
    "tags": []
   },
   "outputs": [],
   "source": [
    "import pandas as pd\n",
    "from sklearn.compose import ColumnTransformer\n",
    "from sklearn.preprocessing import OneHotEncoder\n",
    "from sklearn.preprocessing import OrdinalEncoder\n",
    "from sklearn.impute import SimpleImputer\n",
    "from sklearn.preprocessing import StandardScaler"
   ]
  },
  {
   "cell_type": "code",
   "execution_count": null,
   "metadata": {
    "ExecuteTime": {
     "end_time": "2024-09-25T16:13:29.098631Z",
     "start_time": "2024-09-25T16:13:28.728080Z"
    },
    "deletable": false,
    "editable": false,
    "nbgrader": {
     "cell_type": "code",
     "checksum": "769f37705efa948ad18a2fa0a9704a3c",
     "grade": false,
     "grade_id": "cell-1c558e3e7a3e6e66",
     "locked": true,
     "schema_version": 3,
     "solution": false,
     "task": false
    },
    "tags": []
   },
   "outputs": [],
   "source": [
    "# Data import\n",
    "\n",
    "df = pd.read_csv('https://raw.githubusercontent.com/jnin/information-systems/refs/heads/main/data/superheroes_complete.csv')"
   ]
  },
  {
   "cell_type": "markdown",
   "metadata": {},
   "source": [
    "### 1. Feature Selection"
   ]
  },
  {
   "cell_type": "code",
   "execution_count": 29,
   "metadata": {
    "ExecuteTime": {
     "end_time": "2024-09-25T16:15:17.022765Z",
     "start_time": "2024-09-25T16:15:16.249897Z"
    },
    "deletable": false,
    "id": "rnxOTovpEqpu",
    "nbgrader": {
     "cell_type": "code",
     "checksum": "afbce71d8bcd1c8c6a0c2dd3c6e9a686",
     "grade": true,
     "grade_id": "ex8",
     "locked": false,
     "points": 5,
     "schema_version": 3,
     "solution": true,
     "task": false
    },
    "tags": []
   },
   "outputs": [],
   "source": [
    "y = df['Alignment']\n",
    "X = df.drop(columns = ['Alignment'])"
   ]
  },
  {
   "cell_type": "markdown",
   "metadata": {},
   "source": [
    "We decided to drop the **name**, **skin color**, **hair color** and **eye color** due to their irrelevance in determining the alignment of each hero. \n",
    "\n",
    "We specifically decided to keep **publisher** since some publishers might have a bias towards certain types of alignment (e.g. Marvel publishing preferrably \"good\" superheros. For later prediction this could be a relevant factor) "
   ]
  },
  {
   "cell_type": "code",
   "execution_count": 30,
   "metadata": {},
   "outputs": [],
   "source": [
    "X.drop(columns = [\n",
    "    \"Name\",\n",
    "    \"Skin color\", \n",
    "    \"Hair color\", \n",
    "    \"Eye color\"], inplace = True)"
   ]
  },
  {
   "cell_type": "markdown",
   "metadata": {},
   "source": [
    "We were also checking if it's possible to combine vision columns and transform them to ordinal encoding later. The following checks show that this is **not possible** since there are multiple superheros having more than one type of vision."
   ]
  },
  {
   "cell_type": "code",
   "execution_count": 31,
   "metadata": {},
   "outputs": [
    {
     "name": "stdout",
     "output_type": "stream",
     "text": [
      "There are 8 different kinds of vision.\n",
      "There are 45 superheros with at least 2 types of vision.\n"
     ]
    }
   ],
   "source": [
    "# Step 1: Filter columns that contain the word \"vision\" (case-insensitive)\n",
    "\n",
    "vision_columns = [col for col in df.columns if 'vision' in col.lower()]\n",
    "print(f'There are {len(vision_columns)} different kinds of vision.')\n",
    "\n",
    "# Step 2: Create a new column v_sum to store the sum of all vision powers\n",
    "\n",
    "df['v_sum'] = df[vision_columns].sum(axis = 1)\n",
    "\n",
    "multiple_vision = len(df[df['v_sum'] > 1])\n",
    "print(f'There are {multiple_vision} superheros with at least 2 types of vision.')\n"
   ]
  },
  {
   "cell_type": "markdown",
   "metadata": {},
   "source": [
    "### 2. Handling of missing values\n",
    "\n",
    "**Note:** We switched the order of execution to handle missing data BEFORE encoding as to avoid \"NaN\" columns"
   ]
  },
  {
   "cell_type": "markdown",
   "metadata": {},
   "source": [
    "2.1 Identify missing values columns"
   ]
  },
  {
   "cell_type": "code",
   "execution_count": 32,
   "metadata": {
    "tags": []
   },
   "outputs": [
    {
     "name": "stdout",
     "output_type": "stream",
     "text": [
      "Gender        18\n",
      "Race         247\n",
      "Publisher     13\n",
      "Weight         2\n",
      "dtype: int64\n"
     ]
    }
   ],
   "source": [
    "# Count of missing values for each column\n",
    "missing_per_column = X.isnull().sum()\n",
    "\n",
    "# Filter columns where missing values are greater than 0\n",
    "columns_with_missing = missing_per_column[missing_per_column > 0]\n",
    "\n",
    "# Display the columns with missing values\n",
    "print(columns_with_missing)"
   ]
  },
  {
   "cell_type": "markdown",
   "metadata": {},
   "source": [
    "2.2 Imputing missing values for **weight**, **publisher**, **race** and **gender**"
   ]
  },
  {
   "cell_type": "code",
   "execution_count": 33,
   "metadata": {
    "tags": []
   },
   "outputs": [],
   "source": [
    "# Weight will be imputed using the median\n",
    "imputer_median = SimpleImputer(strategy='median')\n",
    "\n",
    "# Publisher, race and gender will be imputed using the most frequent occurance\n",
    "imputer_mf = SimpleImputer(strategy='most_frequent')\n",
    "\n",
    "# Setting up the transformer. We are turning off the column prefixes to not have to deal with the \"remainder\" prefixes later.\n",
    "\n",
    "imputing_transformer = ColumnTransformer([('median', imputer_median, ['Weight']),\n",
    "                                 ('most_freq', imputer_mf, ['Publisher', 'Race', 'Gender'])],\n",
    "                                 remainder= \"passthrough\",\n",
    "                                 verbose_feature_names_out=False)\n",
    "\n",
    "# Transforming the data\n",
    "X_imputed = imputing_transformer.fit_transform(X)\n"
   ]
  },
  {
   "cell_type": "markdown",
   "metadata": {},
   "source": [
    "2.3 Checking if there are any remaining missing values"
   ]
  },
  {
   "cell_type": "code",
   "execution_count": 34,
   "metadata": {
    "tags": []
   },
   "outputs": [
    {
     "name": "stdout",
     "output_type": "stream",
     "text": [
      "0\n"
     ]
    }
   ],
   "source": [
    "check = pd.DataFrame(X_imputed)\n",
    "total_missing = check.isnull().sum().sum()\n",
    "\n",
    "print(total_missing)"
   ]
  },
  {
   "cell_type": "markdown",
   "metadata": {},
   "source": [
    "### 3. Variable Encodings\n",
    "\n",
    "This code sets up and applies another ColumnTransformer to preprocess a dataset. "
   ]
  },
  {
   "cell_type": "code",
   "execution_count": 35,
   "metadata": {
    "tags": []
   },
   "outputs": [],
   "source": [
    "categorical_cols = ['Gender', 'Race']\n",
    "ordinal_cols = ['Power Level', 'Intelligence Level']\n",
    "\n",
    "# Specifying the order of the ordinal columns\n",
    "categories = [\n",
    "    ['Weak', 'Below Average', 'Average', 'Above Average', 'Extremely Powerful'],  # Power Level\n",
    "    ['Low Intelligence', 'Average Intelligence', 'Smart', 'Genius', 'Super-Genius']  # Intelligence Level\n",
    "]\n",
    "\n",
    "encoding_transformer = ColumnTransformer([\n",
    "        ('ohe', OneHotEncoder(sparse_output= False), categorical_cols),  # Using One-Hot Encoder for categorical variables\n",
    "        ('ord_enc', OrdinalEncoder(categories= categories),ordinal_cols )  # Using OrdinalEncoder for ordinal variables\n",
    "    ],\n",
    "    remainder = \"passthrough\",\n",
    "    verbose_feature_names_out=False\n",
    ")\n",
    "\n",
    "X_encoded = encoding_transformer.fit_transform(X_imputed)\n"
   ]
  },
  {
   "cell_type": "markdown",
   "metadata": {},
   "source": [
    "### 4. Feature Standardization\n",
    "\n",
    "We decided to scale the height & weight columns; Therefor, we duplicate the dataframe to store it in X_scaled and overwrite the weight and height column with the new scaled variables."
   ]
  },
  {
   "cell_type": "code",
   "execution_count": 36,
   "metadata": {
    "tags": []
   },
   "outputs": [],
   "source": [
    "scaler = StandardScaler()\n",
    "\n",
    "X_scaled = X_encoded\n",
    "\n",
    "# Fitting the scaler on X_encoded and transforming the data\n",
    "\n",
    "X_scaled[['Weight', 'Height']] = scaler.fit_transform(X_encoded[['Weight', 'Height']])"
   ]
  },
  {
   "cell_type": "markdown",
   "metadata": {},
   "source": [
    "### 5. Building the Pipeline"
   ]
  },
  {
   "cell_type": "markdown",
   "metadata": {},
   "source": [
    "Here, we added all the column transformation steps together and combine them in the Pipeline to fit/transform all steps at once.\n",
    "\n",
    "- **Imputer**: Using the column imputation in **2.2.** for weight, publisher, race and gender\n",
    "- **Encoder**: Encoding all variables using the OneHot Encoder and Ordinal Encoder from **3.**\n",
    "- **Scaler**: Using the StandardScaler instatiated in **4** but adding the column transformer to specify the weight & height column"
   ]
  },
  {
   "cell_type": "code",
   "execution_count": 37,
   "metadata": {
    "tags": []
   },
   "outputs": [],
   "source": [
    "from sklearn.pipeline import Pipeline\n",
    "\n",
    "pipeline_steps = [('imputer', imputing_transformer),\n",
    "                  ('encoder', encoding_transformer),\n",
    "                  ('scaler', ColumnTransformer([\n",
    "                      ('scaler', scaler, ['Weight', 'Height'])], \n",
    "                      remainder='passthrough',\n",
    "                      verbose_feature_names_out= False))]\n",
    "\n",
    "pipe = Pipeline(pipeline_steps)  \n",
    "\n",
    "X_pipe = pipe.fit_transform(X)"
   ]
  },
  {
   "cell_type": "markdown",
   "metadata": {},
   "source": [
    "This last steps checks, whether the two approaches (\"manual\" vs. Pipeline) come to the same result:"
   ]
  },
  {
   "cell_type": "code",
   "execution_count": 40,
   "metadata": {
    "tags": []
   },
   "outputs": [
    {
     "data": {
      "text/plain": [
       "True"
      ]
     },
     "execution_count": 40,
     "metadata": {},
     "output_type": "execute_result"
    }
   ],
   "source": [
    "X_pipe.shape == X_scaled.shape"
   ]
  },
  {
   "cell_type": "code",
   "execution_count": 39,
   "metadata": {},
   "outputs": [
    {
     "data": {
      "text/html": [
       "<div>\n",
       "<style scoped>\n",
       "    .dataframe tbody tr th:only-of-type {\n",
       "        vertical-align: middle;\n",
       "    }\n",
       "\n",
       "    .dataframe tbody tr th {\n",
       "        vertical-align: top;\n",
       "    }\n",
       "\n",
       "    .dataframe thead th {\n",
       "        text-align: right;\n",
       "    }\n",
       "</style>\n",
       "<table border=\"1\" class=\"dataframe\">\n",
       "  <thead>\n",
       "    <tr style=\"text-align: right;\">\n",
       "      <th></th>\n",
       "      <th>Weight</th>\n",
       "      <th>Height</th>\n",
       "      <th>Gender_Female</th>\n",
       "      <th>Gender_Male</th>\n",
       "      <th>Race_Alien</th>\n",
       "      <th>Race_Alpha</th>\n",
       "      <th>Race_Amazon</th>\n",
       "      <th>Race_Android</th>\n",
       "      <th>Race_Animal</th>\n",
       "      <th>Race_Asgardian</th>\n",
       "      <th>...</th>\n",
       "      <th>Web Creation</th>\n",
       "      <th>Reality Warping</th>\n",
       "      <th>Odin Force</th>\n",
       "      <th>Symbiote Costume</th>\n",
       "      <th>Speed Force</th>\n",
       "      <th>Phoenix Force</th>\n",
       "      <th>Molecular Dissipation</th>\n",
       "      <th>Vision - Cryo</th>\n",
       "      <th>Omnipresent</th>\n",
       "      <th>Omniscient</th>\n",
       "    </tr>\n",
       "  </thead>\n",
       "  <tbody>\n",
       "    <tr>\n",
       "      <th>0</th>\n",
       "      <td>2.956541</td>\n",
       "      <td>0.659970</td>\n",
       "      <td>0.0</td>\n",
       "      <td>1.0</td>\n",
       "      <td>0.0</td>\n",
       "      <td>0.0</td>\n",
       "      <td>0.0</td>\n",
       "      <td>0.0</td>\n",
       "      <td>0.0</td>\n",
       "      <td>0.0</td>\n",
       "      <td>...</td>\n",
       "      <td>False</td>\n",
       "      <td>False</td>\n",
       "      <td>False</td>\n",
       "      <td>False</td>\n",
       "      <td>False</td>\n",
       "      <td>False</td>\n",
       "      <td>False</td>\n",
       "      <td>False</td>\n",
       "      <td>False</td>\n",
       "      <td>False</td>\n",
       "    </tr>\n",
       "    <tr>\n",
       "      <th>1</th>\n",
       "      <td>0.096699</td>\n",
       "      <td>0.571472</td>\n",
       "      <td>0.0</td>\n",
       "      <td>1.0</td>\n",
       "      <td>0.0</td>\n",
       "      <td>0.0</td>\n",
       "      <td>0.0</td>\n",
       "      <td>0.0</td>\n",
       "      <td>0.0</td>\n",
       "      <td>0.0</td>\n",
       "      <td>...</td>\n",
       "      <td>False</td>\n",
       "      <td>False</td>\n",
       "      <td>False</td>\n",
       "      <td>False</td>\n",
       "      <td>False</td>\n",
       "      <td>False</td>\n",
       "      <td>False</td>\n",
       "      <td>False</td>\n",
       "      <td>False</td>\n",
       "      <td>False</td>\n",
       "    </tr>\n",
       "    <tr>\n",
       "      <th>2</th>\n",
       "      <td>0.286848</td>\n",
       "      <td>0.527224</td>\n",
       "      <td>0.0</td>\n",
       "      <td>1.0</td>\n",
       "      <td>0.0</td>\n",
       "      <td>0.0</td>\n",
       "      <td>0.0</td>\n",
       "      <td>0.0</td>\n",
       "      <td>0.0</td>\n",
       "      <td>0.0</td>\n",
       "      <td>...</td>\n",
       "      <td>False</td>\n",
       "      <td>False</td>\n",
       "      <td>False</td>\n",
       "      <td>False</td>\n",
       "      <td>False</td>\n",
       "      <td>False</td>\n",
       "      <td>False</td>\n",
       "      <td>False</td>\n",
       "      <td>False</td>\n",
       "      <td>False</td>\n",
       "    </tr>\n",
       "    <tr>\n",
       "      <th>3</th>\n",
       "      <td>2.956541</td>\n",
       "      <td>0.659970</td>\n",
       "      <td>0.0</td>\n",
       "      <td>1.0</td>\n",
       "      <td>0.0</td>\n",
       "      <td>0.0</td>\n",
       "      <td>0.0</td>\n",
       "      <td>0.0</td>\n",
       "      <td>0.0</td>\n",
       "      <td>0.0</td>\n",
       "      <td>...</td>\n",
       "      <td>False</td>\n",
       "      <td>False</td>\n",
       "      <td>False</td>\n",
       "      <td>False</td>\n",
       "      <td>False</td>\n",
       "      <td>False</td>\n",
       "      <td>False</td>\n",
       "      <td>False</td>\n",
       "      <td>False</td>\n",
       "      <td>False</td>\n",
       "    </tr>\n",
       "    <tr>\n",
       "      <th>4</th>\n",
       "      <td>-1.150678</td>\n",
       "      <td>-1.567212</td>\n",
       "      <td>0.0</td>\n",
       "      <td>1.0</td>\n",
       "      <td>0.0</td>\n",
       "      <td>0.0</td>\n",
       "      <td>0.0</td>\n",
       "      <td>0.0</td>\n",
       "      <td>0.0</td>\n",
       "      <td>0.0</td>\n",
       "      <td>...</td>\n",
       "      <td>False</td>\n",
       "      <td>False</td>\n",
       "      <td>False</td>\n",
       "      <td>False</td>\n",
       "      <td>False</td>\n",
       "      <td>False</td>\n",
       "      <td>False</td>\n",
       "      <td>False</td>\n",
       "      <td>False</td>\n",
       "      <td>False</td>\n",
       "    </tr>\n",
       "    <tr>\n",
       "      <th>...</th>\n",
       "      <td>...</td>\n",
       "      <td>...</td>\n",
       "      <td>...</td>\n",
       "      <td>...</td>\n",
       "      <td>...</td>\n",
       "      <td>...</td>\n",
       "      <td>...</td>\n",
       "      <td>...</td>\n",
       "      <td>...</td>\n",
       "      <td>...</td>\n",
       "      <td>...</td>\n",
       "      <td>...</td>\n",
       "      <td>...</td>\n",
       "      <td>...</td>\n",
       "      <td>...</td>\n",
       "      <td>...</td>\n",
       "      <td>...</td>\n",
       "      <td>...</td>\n",
       "      <td>...</td>\n",
       "      <td>...</td>\n",
       "      <td>...</td>\n",
       "    </tr>\n",
       "    <tr>\n",
       "      <th>655</th>\n",
       "      <td>-0.002178</td>\n",
       "      <td>0.379728</td>\n",
       "      <td>1.0</td>\n",
       "      <td>0.0</td>\n",
       "      <td>0.0</td>\n",
       "      <td>0.0</td>\n",
       "      <td>0.0</td>\n",
       "      <td>0.0</td>\n",
       "      <td>0.0</td>\n",
       "      <td>0.0</td>\n",
       "      <td>...</td>\n",
       "      <td>False</td>\n",
       "      <td>False</td>\n",
       "      <td>False</td>\n",
       "      <td>False</td>\n",
       "      <td>False</td>\n",
       "      <td>False</td>\n",
       "      <td>False</td>\n",
       "      <td>False</td>\n",
       "      <td>False</td>\n",
       "      <td>False</td>\n",
       "    </tr>\n",
       "    <tr>\n",
       "      <th>656</th>\n",
       "      <td>-1.150678</td>\n",
       "      <td>1.410721</td>\n",
       "      <td>0.0</td>\n",
       "      <td>1.0</td>\n",
       "      <td>0.0</td>\n",
       "      <td>0.0</td>\n",
       "      <td>0.0</td>\n",
       "      <td>0.0</td>\n",
       "      <td>0.0</td>\n",
       "      <td>0.0</td>\n",
       "      <td>...</td>\n",
       "      <td>False</td>\n",
       "      <td>False</td>\n",
       "      <td>False</td>\n",
       "      <td>False</td>\n",
       "      <td>False</td>\n",
       "      <td>False</td>\n",
       "      <td>False</td>\n",
       "      <td>False</td>\n",
       "      <td>False</td>\n",
       "      <td>False</td>\n",
       "    </tr>\n",
       "    <tr>\n",
       "      <th>657</th>\n",
       "      <td>-0.268387</td>\n",
       "      <td>-0.350374</td>\n",
       "      <td>0.0</td>\n",
       "      <td>1.0</td>\n",
       "      <td>0.0</td>\n",
       "      <td>0.0</td>\n",
       "      <td>0.0</td>\n",
       "      <td>0.0</td>\n",
       "      <td>0.0</td>\n",
       "      <td>0.0</td>\n",
       "      <td>...</td>\n",
       "      <td>False</td>\n",
       "      <td>False</td>\n",
       "      <td>False</td>\n",
       "      <td>False</td>\n",
       "      <td>False</td>\n",
       "      <td>False</td>\n",
       "      <td>False</td>\n",
       "      <td>False</td>\n",
       "      <td>False</td>\n",
       "      <td>False</td>\n",
       "    </tr>\n",
       "    <tr>\n",
       "      <th>658</th>\n",
       "      <td>0.035852</td>\n",
       "      <td>0.416602</td>\n",
       "      <td>1.0</td>\n",
       "      <td>0.0</td>\n",
       "      <td>0.0</td>\n",
       "      <td>0.0</td>\n",
       "      <td>0.0</td>\n",
       "      <td>0.0</td>\n",
       "      <td>0.0</td>\n",
       "      <td>0.0</td>\n",
       "      <td>...</td>\n",
       "      <td>False</td>\n",
       "      <td>False</td>\n",
       "      <td>False</td>\n",
       "      <td>False</td>\n",
       "      <td>False</td>\n",
       "      <td>False</td>\n",
       "      <td>False</td>\n",
       "      <td>False</td>\n",
       "      <td>False</td>\n",
       "      <td>False</td>\n",
       "    </tr>\n",
       "    <tr>\n",
       "      <th>659</th>\n",
       "      <td>0.218395</td>\n",
       "      <td>0.527224</td>\n",
       "      <td>0.0</td>\n",
       "      <td>1.0</td>\n",
       "      <td>0.0</td>\n",
       "      <td>0.0</td>\n",
       "      <td>0.0</td>\n",
       "      <td>0.0</td>\n",
       "      <td>0.0</td>\n",
       "      <td>0.0</td>\n",
       "      <td>...</td>\n",
       "      <td>False</td>\n",
       "      <td>False</td>\n",
       "      <td>False</td>\n",
       "      <td>False</td>\n",
       "      <td>False</td>\n",
       "      <td>False</td>\n",
       "      <td>False</td>\n",
       "      <td>False</td>\n",
       "      <td>False</td>\n",
       "      <td>False</td>\n",
       "    </tr>\n",
       "  </tbody>\n",
       "</table>\n",
       "<p>660 rows × 235 columns</p>\n",
       "</div>"
      ],
      "text/plain": [
       "       Weight    Height  Gender_Female  Gender_Male  Race_Alien  Race_Alpha  \\\n",
       "0    2.956541  0.659970            0.0          1.0         0.0         0.0   \n",
       "1    0.096699  0.571472            0.0          1.0         0.0         0.0   \n",
       "2    0.286848  0.527224            0.0          1.0         0.0         0.0   \n",
       "3    2.956541  0.659970            0.0          1.0         0.0         0.0   \n",
       "4   -1.150678 -1.567212            0.0          1.0         0.0         0.0   \n",
       "..        ...       ...            ...          ...         ...         ...   \n",
       "655 -0.002178  0.379728            1.0          0.0         0.0         0.0   \n",
       "656 -1.150678  1.410721            0.0          1.0         0.0         0.0   \n",
       "657 -0.268387 -0.350374            0.0          1.0         0.0         0.0   \n",
       "658  0.035852  0.416602            1.0          0.0         0.0         0.0   \n",
       "659  0.218395  0.527224            0.0          1.0         0.0         0.0   \n",
       "\n",
       "     Race_Amazon  Race_Android  Race_Animal  Race_Asgardian  ...  \\\n",
       "0            0.0           0.0          0.0             0.0  ...   \n",
       "1            0.0           0.0          0.0             0.0  ...   \n",
       "2            0.0           0.0          0.0             0.0  ...   \n",
       "3            0.0           0.0          0.0             0.0  ...   \n",
       "4            0.0           0.0          0.0             0.0  ...   \n",
       "..           ...           ...          ...             ...  ...   \n",
       "655          0.0           0.0          0.0             0.0  ...   \n",
       "656          0.0           0.0          0.0             0.0  ...   \n",
       "657          0.0           0.0          0.0             0.0  ...   \n",
       "658          0.0           0.0          0.0             0.0  ...   \n",
       "659          0.0           0.0          0.0             0.0  ...   \n",
       "\n",
       "     Web Creation  Reality Warping  Odin Force  Symbiote Costume  Speed Force  \\\n",
       "0           False            False       False             False        False   \n",
       "1           False            False       False             False        False   \n",
       "2           False            False       False             False        False   \n",
       "3           False            False       False             False        False   \n",
       "4           False            False       False             False        False   \n",
       "..            ...              ...         ...               ...          ...   \n",
       "655         False            False       False             False        False   \n",
       "656         False            False       False             False        False   \n",
       "657         False            False       False             False        False   \n",
       "658         False            False       False             False        False   \n",
       "659         False            False       False             False        False   \n",
       "\n",
       "     Phoenix Force  Molecular Dissipation  Vision - Cryo  Omnipresent  \\\n",
       "0            False                  False          False        False   \n",
       "1            False                  False          False        False   \n",
       "2            False                  False          False        False   \n",
       "3            False                  False          False        False   \n",
       "4            False                  False          False        False   \n",
       "..             ...                    ...            ...          ...   \n",
       "655          False                  False          False        False   \n",
       "656          False                  False          False        False   \n",
       "657          False                  False          False        False   \n",
       "658          False                  False          False        False   \n",
       "659          False                  False          False        False   \n",
       "\n",
       "     Omniscient  \n",
       "0         False  \n",
       "1         False  \n",
       "2         False  \n",
       "3         False  \n",
       "4         False  \n",
       "..          ...  \n",
       "655       False  \n",
       "656       False  \n",
       "657       False  \n",
       "658       False  \n",
       "659       False  \n",
       "\n",
       "[660 rows x 235 columns]"
      ]
     },
     "execution_count": 39,
     "metadata": {},
     "output_type": "execute_result"
    }
   ],
   "source": [
    "X_pipe"
   ]
  }
 ],
 "metadata": {
  "colab": {
   "collapsed_sections": [],
   "name": "Session I.ipynb",
   "provenance": []
  },
  "kernelspec": {
   "display_name": "base",
   "language": "python",
   "name": "python3"
  },
  "language_info": {
   "codemirror_mode": {
    "name": "ipython",
    "version": 3
   },
   "file_extension": ".py",
   "mimetype": "text/x-python",
   "name": "python",
   "nbconvert_exporter": "python",
   "pygments_lexer": "ipython3",
   "version": "3.12.3"
  }
 },
 "nbformat": 4,
 "nbformat_minor": 4
}
